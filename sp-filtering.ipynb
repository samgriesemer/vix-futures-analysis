{
 "cells": [
  {
   "cell_type": "code",
   "execution_count": 1,
   "metadata": {},
   "outputs": [],
   "source": [
    "# import libraries\n",
    "import pandas as pd\n",
    "import numpy as np\n",
    "import matplotlib.pyplot as plt\n",
    "import xlrd"
   ]
  },
  {
   "cell_type": "code",
   "execution_count": 2,
   "metadata": {},
   "outputs": [],
   "source": [
    "# import data and clean\n",
    "sp = pd.read_excel('data/sp.xlsm')\n",
    "sp = sp[sp.columns[:-4]]"
   ]
  },
  {
   "cell_type": "code",
   "execution_count": 3,
   "metadata": {},
   "outputs": [],
   "source": [
    "# preserve date before reindexing\n",
    "sp['date'] = sp.index"
   ]
  },
  {
   "cell_type": "code",
   "execution_count": 4,
   "metadata": {},
   "outputs": [],
   "source": [
    "# group data by week and by month\n",
    "sp_week  = sp.groupby(by=[sp.index.year,sp.index.week])\n",
    "sp_month = sp.groupby(by=[sp.index.year,sp.index.month])"
   ]
  },
  {
   "cell_type": "code",
   "execution_count": 5,
   "metadata": {
    "scrolled": false
   },
   "outputs": [],
   "source": [
    "# get first of each week/month\n",
    "sp_first_of_week  = sp_week.first()\n",
    "sp_first_of_month = sp_month.first()"
   ]
  },
  {
   "cell_type": "code",
   "execution_count": 6,
   "metadata": {},
   "outputs": [
    {
     "data": {
      "text/html": [
       "<div>\n",
       "<style scoped>\n",
       "    .dataframe tbody tr th:only-of-type {\n",
       "        vertical-align: middle;\n",
       "    }\n",
       "\n",
       "    .dataframe tbody tr th {\n",
       "        vertical-align: top;\n",
       "    }\n",
       "\n",
       "    .dataframe thead th {\n",
       "        text-align: right;\n",
       "    }\n",
       "</style>\n",
       "<table border=\"1\" class=\"dataframe\">\n",
       "  <thead>\n",
       "    <tr style=\"text-align: right;\">\n",
       "      <th></th>\n",
       "      <th></th>\n",
       "      <th>BXMSM</th>\n",
       "      <th>SPTR</th>\n",
       "      <th>SPXSM</th>\n",
       "      <th>PUTSM</th>\n",
       "      <th>CLL*</th>\n",
       "      <th>BXYSM</th>\n",
       "      <th>VIX®</th>\n",
       "      <th>VXOSM</th>\n",
       "      <th>BXMD</th>\n",
       "      <th>BFLY</th>\n",
       "      <th>CLLZ</th>\n",
       "      <th>CMBO</th>\n",
       "      <th>CNDR</th>\n",
       "      <th>PPUT</th>\n",
       "      <th>date</th>\n",
       "    </tr>\n",
       "  </thead>\n",
       "  <tbody>\n",
       "    <tr>\n",
       "      <th rowspan=\"5\" valign=\"top\">2000</th>\n",
       "      <th>1</th>\n",
       "      <td>592.869975</td>\n",
       "      <td>2002.113</td>\n",
       "      <td>1455.22</td>\n",
       "      <td>609.597777</td>\n",
       "      <td>456.96</td>\n",
       "      <td>705.571325</td>\n",
       "      <td>24.21</td>\n",
       "      <td>24.69</td>\n",
       "      <td>846.86</td>\n",
       "      <td>353.40</td>\n",
       "      <td>526.95</td>\n",
       "      <td>716.42</td>\n",
       "      <td>507.43</td>\n",
       "      <td>458.38</td>\n",
       "      <td>2000-01-03</td>\n",
       "    </tr>\n",
       "    <tr>\n",
       "      <th>2</th>\n",
       "      <td>596.735975</td>\n",
       "      <td>2006.070</td>\n",
       "      <td>1457.60</td>\n",
       "      <td>613.244620</td>\n",
       "      <td>455.98</td>\n",
       "      <td>710.381734</td>\n",
       "      <td>21.71</td>\n",
       "      <td>22.51</td>\n",
       "      <td>852.63</td>\n",
       "      <td>356.94</td>\n",
       "      <td>528.95</td>\n",
       "      <td>720.99</td>\n",
       "      <td>509.64</td>\n",
       "      <td>458.18</td>\n",
       "      <td>2000-01-10</td>\n",
       "    </tr>\n",
       "    <tr>\n",
       "      <th>3</th>\n",
       "      <td>600.003975</td>\n",
       "      <td>2002.885</td>\n",
       "      <td>1455.14</td>\n",
       "      <td>616.383453</td>\n",
       "      <td>454.76</td>\n",
       "      <td>714.022015</td>\n",
       "      <td>21.50</td>\n",
       "      <td>23.31</td>\n",
       "      <td>855.77</td>\n",
       "      <td>363.21</td>\n",
       "      <td>528.67</td>\n",
       "      <td>724.61</td>\n",
       "      <td>510.82</td>\n",
       "      <td>457.02</td>\n",
       "      <td>2000-01-18</td>\n",
       "    </tr>\n",
       "    <tr>\n",
       "      <th>4</th>\n",
       "      <td>585.647975</td>\n",
       "      <td>1929.201</td>\n",
       "      <td>1401.53</td>\n",
       "      <td>608.499879</td>\n",
       "      <td>441.44</td>\n",
       "      <td>697.528347</td>\n",
       "      <td>24.07</td>\n",
       "      <td>26.32</td>\n",
       "      <td>830.90</td>\n",
       "      <td>366.37</td>\n",
       "      <td>513.81</td>\n",
       "      <td>707.91</td>\n",
       "      <td>508.41</td>\n",
       "      <td>442.63</td>\n",
       "      <td>2000-01-24</td>\n",
       "    </tr>\n",
       "    <tr>\n",
       "      <th>5</th>\n",
       "      <td>584.862975</td>\n",
       "      <td>1919.841</td>\n",
       "      <td>1394.46</td>\n",
       "      <td>608.184886</td>\n",
       "      <td>439.61</td>\n",
       "      <td>695.753881</td>\n",
       "      <td>24.95</td>\n",
       "      <td>24.29</td>\n",
       "      <td>827.41</td>\n",
       "      <td>367.28</td>\n",
       "      <td>512.23</td>\n",
       "      <td>706.82</td>\n",
       "      <td>508.51</td>\n",
       "      <td>440.07</td>\n",
       "      <td>2000-01-31</td>\n",
       "    </tr>\n",
       "  </tbody>\n",
       "</table>\n",
       "</div>"
      ],
      "text/plain": [
       "             BXMSM      SPTR    SPXSM       PUTSM    CLL*       BXYSM  VIX®   \\\n",
       "2000 1  592.869975  2002.113  1455.22  609.597777  456.96  705.571325  24.21   \n",
       "     2  596.735975  2006.070  1457.60  613.244620  455.98  710.381734  21.71   \n",
       "     3  600.003975  2002.885  1455.14  616.383453  454.76  714.022015  21.50   \n",
       "     4  585.647975  1929.201  1401.53  608.499879  441.44  697.528347  24.07   \n",
       "     5  584.862975  1919.841  1394.46  608.184886  439.61  695.753881  24.95   \n",
       "\n",
       "        VXOSM   BXMD    BFLY    CLLZ    CMBO    CNDR    PPUT        date  \n",
       "2000 1  24.69  846.86  353.40  526.95  716.42  507.43  458.38 2000-01-03  \n",
       "     2  22.51  852.63  356.94  528.95  720.99  509.64  458.18 2000-01-10  \n",
       "     3  23.31  855.77  363.21  528.67  724.61  510.82  457.02 2000-01-18  \n",
       "     4  26.32  830.90  366.37  513.81  707.91  508.41  442.63 2000-01-24  \n",
       "     5  24.29  827.41  367.28  512.23  706.82  508.51  440.07 2000-01-31  "
      ]
     },
     "execution_count": 6,
     "metadata": {},
     "output_type": "execute_result"
    }
   ],
   "source": [
    "sp_first_of_week.head()"
   ]
  }
 ],
 "metadata": {
  "kernelspec": {
   "display_name": "Python 3",
   "language": "python",
   "name": "python3"
  },
  "language_info": {
   "codemirror_mode": {
    "name": "ipython",
    "version": 3
   },
   "file_extension": ".py",
   "mimetype": "text/x-python",
   "name": "python",
   "nbconvert_exporter": "python",
   "pygments_lexer": "ipython3",
   "version": "3.6.3"
  }
 },
 "nbformat": 4,
 "nbformat_minor": 2
}
